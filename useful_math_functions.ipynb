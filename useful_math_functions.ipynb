{
 "cells": [
  {
   "cell_type": "code",
   "execution_count": null,
   "id": "60654952",
   "metadata": {},
   "outputs": [],
   "source": [
    "import sys\n",
    "import numpy as np\n",
    "from prml.rv import Beta"
   ]
  },
  {
   "cell_type": "code",
   "execution_count": null,
   "id": "ccba2528",
   "metadata": {},
   "outputs": [],
   "source": [
    "%matplotlib inline\n",
    "\n",
    "from __future__ import print_function\n",
    "from ipywidgets import interact, fixed, interactive_output\n",
    "from ipywidgets import FloatSlider, IntSlider, HBox, VBox\n",
    "from IPython.display import display\n",
    "\n",
    "import matplotlib.pyplot as plt\n",
    "import numpy as np\n",
    "\n",
    "plt.style.use('dark_background')\n",
    "plt.rcParams[\"legend.fontsize\"] = 20\n",
    "plt.rcParams[\"legend.handlelength\"] = 2\n",
    "plt.rcParams[\"figure.figsize\"] = (20, 10)"
   ]
  },
  {
   "cell_type": "markdown",
   "id": "32e912d5",
   "metadata": {},
   "source": [
    "# 幂函数"
   ]
  },
  {
   "cell_type": "code",
   "execution_count": null,
   "id": "71c25038",
   "metadata": {
    "scrolled": false
   },
   "outputs": [],
   "source": [
    "def f_pow(a=1.0, b=1.0):\n",
    "    x = np.linspace(-3, 3, 1000)\n",
    "    y = np.power(b * x, a)\n",
    "    plt.figure()\n",
    "    plt.xlim(-3.1, 3.1)\n",
    "    plt.ylim(-5, 5)\n",
    "    plt.plot(x, y, 'r', lw=3, label=\"$(bx)^a$\")\n",
    "    plt.annotate(\"a = {}\".format(a), (-2.9, 3.5), size=15)\n",
    "    plt.annotate(\"b = {}\".format(b), (-2.9, 3), size=15)\n",
    "    plt.grid(color='gray', linestyle='--')\n",
    "    plt.legend()\n",
    "    plt.show\n",
    "\n",
    "a = FloatSlider(min=-5.0, max=5.0, step=0.5, value=1.0, \n",
    "                description='a', continuous_update=True)\n",
    "b = FloatSlider(min=0, max=5.0, step=0.1, value=1.0, \n",
    "                description='b', continuous_update=True)\n",
    "ui = HBox([a, b])\n",
    "fplot = interactive_output(f_pow, {'a': a, 'b': b})\n",
    "display(ui, fplot)"
   ]
  },
  {
   "cell_type": "code",
   "execution_count": null,
   "id": "047311a6",
   "metadata": {},
   "outputs": [],
   "source": [
    "def f_pow2(a=1.0, b=1.0):\n",
    "    x = np.linspace(-5, 5, 1000)\n",
    "    y = 1.0 / (1 + a * x ** b)\n",
    "    y_x = x / (1 + a * x ** b)\n",
    "    plt.figure()\n",
    "    plt.xlim(-5.1, 5.1)\n",
    "    plt.ylim(-5, 5)\n",
    "    plt.plot(x, y, 'r', lw=3, label=\"$(1 + ax^b)^{-1}$\")\n",
    "    plt.plot(x, y_x, 'g', lw=3, label=\"$x/(1 + ax^b)$\")\n",
    "    plt.grid(color='gray', linestyle='--')\n",
    "    plt.legend()\n",
    "    plt.show\n",
    "\n",
    "a = FloatSlider(min=-5.0, max=5.0, step=0.1, value=1.0, \n",
    "                description='a', continuous_update=True)\n",
    "b = FloatSlider(min=-5, max=5.0, step=0.5, value=1.0, \n",
    "                description='b', continuous_update=True)\n",
    "ui = HBox([a, b])\n",
    "fplot = interactive_output(f_pow2, {'a': a, 'b': b})\n",
    "display(ui, fplot)"
   ]
  },
  {
   "cell_type": "markdown",
   "id": "f8c24013",
   "metadata": {},
   "source": [
    "## 多项式\n",
    "$y = ax + bx^2 + cx^3 + dx^4 + ex^5 + fx^6$"
   ]
  },
  {
   "cell_type": "code",
   "execution_count": null,
   "id": "e20ce563",
   "metadata": {},
   "outputs": [],
   "source": [
    "def f_poly(a=1.0, b=1.0, c=0.0, d=0.0, e=0.0, f=0.0):\n",
    "    x = np.linspace(-10, 10, 1000)\n",
    "    y = a * x + b * x**2 + c * x**3 + d * x**4 + e * x**5 + f * x**6\n",
    "    plt.figure()\n",
    "    plt.xlim(-3.1, 3.1)\n",
    "    plt.ylim(-10, 10)\n",
    "    plt.plot(x, y, 'r', lw=3)\n",
    "    plt.grid(color='gray', linestyle='--')\n",
    "    plt.show\n",
    "\n",
    "a = FloatSlider(min=-10.0, max=10.0, step=0.1, value=1.0, \n",
    "                description='a', continuous_update=True)\n",
    "b = FloatSlider(min=-10.0, max=10.0, step=0.1, value=1.0, \n",
    "                description='b', continuous_update=True)\n",
    "c = FloatSlider(min=-10.0, max=10.0, step=0.1, value=0.0, \n",
    "                description='c', continuous_update=True)\n",
    "d = FloatSlider(min=-10.0, max=10.0, step=0.1, value=0.0, \n",
    "                description='d', continuous_update=True)\n",
    "e = FloatSlider(min=-10.0, max=10.0, step=0.1, value=0.0, \n",
    "                description='e', continuous_update=True)\n",
    "f = FloatSlider(min=-10.0, max=10.0, step=0.1, value=0.0, \n",
    "                description='f', continuous_update=True)\n",
    "ui = VBox([HBox([a, b, c]), HBox([d, e, f])])\n",
    "fplot = interactive_output(f_poly, {'a': a, 'b': b, 'c': c, 'd': d, 'e': e, 'f': f})\n",
    "fplot.layout.height = '500px'\n",
    "display(ui, fplot)"
   ]
  },
  {
   "cell_type": "markdown",
   "id": "16dbea02",
   "metadata": {},
   "source": [
    "$y = \\frac{ax+bx^2}{1 + cx+dx^2 + ex^3}$"
   ]
  },
  {
   "cell_type": "code",
   "execution_count": null,
   "id": "0895bac3",
   "metadata": {},
   "outputs": [],
   "source": [
    "def f_poly2(a=1.0, b=1.0, c=.0, d=.0, e=0.):\n",
    "    x = np.linspace(-10, 10, 1000)\n",
    "    y = (a * x + b * x**2) / (1 + c * x + d * x**2 + e * x**3)\n",
    "    plt.figure()\n",
    "    plt.xlim(-10.1, 10.1)\n",
    "    plt.ylim(-10, 10)\n",
    "    plt.plot(x, y, 'r', lw=3)\n",
    "    plt.grid(color='gray', linestyle='--')\n",
    "    plt.show\n",
    "\n",
    "a = FloatSlider(min=-10.0, max=10.0, step=0.1, value=1.0, \n",
    "                description='a', continuous_update=True)\n",
    "b = FloatSlider(min=-10.0, max=10.0, step=0.1, value=1.0, \n",
    "                description='b', continuous_update=True)\n",
    "c = FloatSlider(min=-10.0, max=10.0, step=0.1, value=0.0, \n",
    "                description='c', continuous_update=True)\n",
    "d = FloatSlider(min=-10.0, max=10.0, step=0.5, value=0.0, \n",
    "                description='d', continuous_update=True)\n",
    "e = FloatSlider(min=-10.0, max=10.0, step=0.5, value=0.0, \n",
    "                description='e', continuous_update=True)\n",
    "ui = VBox([HBox([a, b]), HBox([c, d, e])])\n",
    "fplot = interactive_output(f_poly2, {'a': a, 'b': b, 'c': c, 'd': d, 'e': e})\n",
    "fplot.layout.height = '500px'\n",
    "display(ui, fplot)"
   ]
  },
  {
   "cell_type": "markdown",
   "id": "4d1c0b65",
   "metadata": {},
   "source": [
    "# 指数函数\n",
    "$y = e^{ax}$, $x,a \\in \\mathcal{R}$\n",
    "\n",
    "* 指数函数的倒数和指数函数关于y轴对称"
   ]
  },
  {
   "cell_type": "code",
   "execution_count": null,
   "id": "4b534608",
   "metadata": {},
   "outputs": [],
   "source": [
    "def f_exp(a=1.0):\n",
    "    x = np.linspace(-3, 3, 600)\n",
    "    y = np.exp(a * x)\n",
    "    y_recip = 1.0 / np.exp(a * x)\n",
    "    y_logic = 1.0 / (1.0 + np.exp(a * x))\n",
    "    plt.figure()\n",
    "    plt.xlim(-3.1, 3.1)\n",
    "    plt.ylim(-0.1, 5)\n",
    "    plt.plot(x, y, 'r', lw=3, label=\"$e^{ax}$\")\n",
    "    plt.plot(x, y_recip, 'g', lw=3, label=\"$e^{-ax}$\")\n",
    "    plt.plot(x, y_logic, 'b', lw=3, label=\"$(1+e^{ax})^{-1}$\")\n",
    "    plt.annotate(\"a = {}\".format(a), (-2.9, 3.5), size=15)\n",
    "    plt.grid(color='gray', linestyle='--')\n",
    "    plt.legend()\n",
    "    plt.show\n",
    "\n",
    "a = FloatSlider(min=-2.0, max=2.0, step=0.1, value=1.0, \n",
    "                description='a', continuous_update=True)\n",
    "ui = HBox([a])\n",
    "fplot = interactive_output(f_exp, {'a': a})\n",
    "display(ui, fplot)"
   ]
  },
  {
   "cell_type": "markdown",
   "id": "e9c6be79",
   "metadata": {},
   "source": [
    "## 指数函数的组成的各类"
   ]
  },
  {
   "cell_type": "code",
   "execution_count": null,
   "id": "f5bbb5d1",
   "metadata": {},
   "outputs": [],
   "source": [
    "def f_exp2(a=1.0):\n",
    "    x = np.linspace(-3, 3, 600)\n",
    "    y = np.exp(a * x)\n",
    "    y2 = x * y\n",
    "    y3 = x / y\n",
    "    plt.figure()\n",
    "    plt.xlim(-3.1, 3.1)\n",
    "    plt.ylim(-5.0, 5.0)\n",
    "    plt.plot(x, y, 'r', lw=3, label=\"$e^{ax}$\")\n",
    "    plt.plot(x, y2, 'g', lw=3, label=\"$xe^{-ax}$\")\n",
    "    plt.plot(x, y3, 'b', lw=3, label=\"$x/e^{ax}$\")\n",
    "    plt.annotate(\"a = {}\".format(a), (-2.9, 3.5), size=15)\n",
    "    plt.grid(color='gray', linestyle='--')\n",
    "    plt.legend()\n",
    "    plt.show\n",
    "\n",
    "a = FloatSlider(min=-2.0, max=2.0, step=0.1, value=1.0, \n",
    "                description='a', continuous_update=True)\n",
    "ui = HBox([a])\n",
    "fplot = interactive_output(f_exp2, {'a': a})\n",
    "display(ui, fplot)"
   ]
  },
  {
   "cell_type": "markdown",
   "id": "b5b71c3c",
   "metadata": {},
   "source": [
    "# $\\Gamma$函数"
   ]
  },
  {
   "cell_type": "code",
   "execution_count": null,
   "id": "e72e623e",
   "metadata": {},
   "outputs": [],
   "source": [
    "from scipy.special import gamma\n",
    "\n",
    "def f_gamma():\n",
    "    x = np.linspace(-10, 10, 2000)\n",
    "    y = gamma(x)\n",
    "    y2 = x * y\n",
    "    y3 = x / (1 + y)\n",
    "    plt.figure()\n",
    "    plt.xlim(-10.1, 10.1)\n",
    "    plt.ylim(-10.0, 10.0)\n",
    "    plt.plot(x, y, 'r', lw=3, label=\"$\\Gamma(x)$\")\n",
    "    plt.plot(x, y2, 'g', lw=3, label=\"$x\\Gamma(x)$\")\n",
    "    plt.plot(x, y3, 'b', lw=3, label=\"$x/(1 + \\Gamma(x))$\")\n",
    "    plt.grid(color='gray', linestyle='--')\n",
    "    plt.legend()\n",
    "    plt.show\n",
    "\n",
    "fplot = interactive_output(f_gamma, {})\n",
    "display(fplot)"
   ]
  },
  {
   "cell_type": "markdown",
   "id": "8c09c40d",
   "metadata": {},
   "source": [
    "# Beta分布"
   ]
  },
  {
   "cell_type": "code",
   "execution_count": null,
   "id": "7e313fc2",
   "metadata": {},
   "outputs": [],
   "source": [
    "def f_beta2(mu=1.0):\n",
    "    x = np.linspace(-10, 10, 1000)\n",
    "    y = 1.0 / (1 + mu**x * (1-mu)**x)\n",
    "    plt.xlim(-5, 5)\n",
    "    plt.ylim(-5.0, 5)\n",
    "    plt.plot(x, y, 'r', lw=3)\n",
    "    plt.grid(color='gray', linestyle='--')\n",
    "    plt.show\n",
    "\n",
    "mu = FloatSlider(min=0., max=1.0, step=0.1, value=0.5, \n",
    "                description='mu', continuous_update=True)\n",
    "ui = HBox([mu])\n",
    "fplot = interactive_output(f_beta2, {'mu': mu})\n",
    "display(ui, fplot)"
   ]
  },
  {
   "cell_type": "code",
   "execution_count": null,
   "id": "48573925",
   "metadata": {},
   "outputs": [],
   "source": [
    "def f_beta(a=1.0, b=1.0):\n",
    "    x = np.linspace(0, 1, 100)\n",
    "    beta = Beta(a, b)\n",
    "    plt.xlim(-0.1, 1.3)\n",
    "    plt.ylim(-0.1, 5)\n",
    "    plt.plot(x, beta.pdf(x), 'r', lw=3)\n",
    "    plt.annotate(\"a={}\".format(a), (-0.05, 4.5), size=15)\n",
    "    plt.annotate(\"b={}\".format(b), (-0.05, 4.1), size=15)\n",
    "    plt.grid(color='gray', linestyle='--')\n",
    "    plt.show\n",
    "\n",
    "a = FloatSlider(min=0.0, max=10.0, step=0.1, value=1.0, \n",
    "                description='a', continuous_update=True)\n",
    "b = FloatSlider(min=0.0, max=10.0, step=0.1, value=1.0, \n",
    "                description='b', continuous_update=True)\n",
    "ui = HBox([a, b])\n",
    "fplot = interactive_output(f_beta, {'a': a, 'b': b})\n",
    "display(ui, fplot)"
   ]
  }
 ],
 "metadata": {
  "kernelspec": {
   "display_name": "Python 3",
   "language": "python",
   "name": "python3"
  },
  "language_info": {
   "codemirror_mode": {
    "name": "ipython",
    "version": 3
   },
   "file_extension": ".py",
   "mimetype": "text/x-python",
   "name": "python",
   "nbconvert_exporter": "python",
   "pygments_lexer": "ipython3",
   "version": "3.8.8"
  }
 },
 "nbformat": 4,
 "nbformat_minor": 5
}
